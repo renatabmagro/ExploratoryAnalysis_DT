{
  "nbformat": 4,
  "nbformat_minor": 0,
  "metadata": {
    "colab": {
      "provenance": [],
      "authorship_tag": "ABX9TyOhjiGM0ZSkhTuqxkM/aAkm",
      "include_colab_link": true
    },
    "kernelspec": {
      "name": "ir",
      "display_name": "R"
    },
    "language_info": {
      "name": "R"
    }
  },
  "cells": [
    {
      "cell_type": "markdown",
      "metadata": {
        "id": "view-in-github",
        "colab_type": "text"
      },
      "source": [
        "<a href=\"https://colab.research.google.com/github/renatabmagro/ExploratoryAnalysis_DT/blob/main/ExploratoryAnalysis_DecisionTree_.ipynb\" target=\"_parent\"><img src=\"https://colab.research.google.com/assets/colab-badge.svg\" alt=\"Open In Colab\"/></a>"
      ]
    },
    {
      "cell_type": "markdown",
      "source": [
        "***Script para construção dos modelos de Árvore de Decisão - Análise exploratória | Etapa II ***"
      ],
      "metadata": {
        "id": "iyZrdcaIYw3o"
      }
    },
    {
      "cell_type": "markdown",
      "source": [
        "*Desenvolvido em: Google Colab + Rstudio*"
      ],
      "metadata": {
        "id": "Lc50u2VkUgpf"
      }
    },
    {
      "cell_type": "markdown",
      "source": [
        "Neste script estão descritos os procedimentos de construção dos modelos de árvore de decisão; Os modelos de árvore de decisão correspondem a Etapa II da análise exploratória dos dados meteorológicos (mensais e sazonais) com relação à produtividade de macieiras.\n",
        "\n",
        "Foram avaliadas as variáveis meteorológicas para a safra atual (n) e para a safra seguinte (n+1).\n",
        "\n",
        "> As etapas principais são: \n",
        "\n",
        ">> Leitura e organização dos dados. \n",
        "\n",
        ">> Construção do modelo de árvore de decisão.\n",
        "----------------------------------------------\n",
        "\n",
        "> Foram construídos modelos com os seguintes objetivos: \n",
        "  - Avaliação produtividade da safra n (Gala e Fuji)\n",
        "  - Avaliação produtividade da safra n+1 (Gala e Fuji)"
      ],
      "metadata": {
        "id": "Tpmhfoofa8fO"
      }
    },
    {
      "cell_type": "code",
      "source": [
        "#Instalação bibliotecas\n",
        "\n",
        "install.packages(\"readxl\")\n",
        "library(readxl)\n",
        "install.packages(\"tidyr\")\n",
        "install.packages(\"tidyverse\")\n",
        "library(tidyr)\n",
        "library(tidyverse)\n",
        "install.packages(\"dplyr\")\n",
        "library(dplyr)\n",
        "install.packages(\"lubridate\")\n",
        "library(lubridate)"
      ],
      "metadata": {
        "id": "V9QZvNAhCIbw"
      },
      "execution_count": null,
      "outputs": []
    },
    {
      "cell_type": "code",
      "source": [
        "#Instalação do pacote de Decision tree\n",
        "\n",
        "  # Pacotes Decision Tree \n",
        "install.packages(\"rpart\")\n",
        "library(rpart)\n",
        "# Para visualização \n",
        "install.packages(\"rpart.plot\")\n",
        "library(rpart.plot)"
      ],
      "metadata": {
        "id": "NCyumAxBOTEd"
      },
      "execution_count": null,
      "outputs": []
    },
    {
      "cell_type": "code",
      "source": [
        "# Leitura dos dados meteorológicos e de produtividade\n",
        "dados_clima <- read_excel(\"BD_climaMES_climaESTAC_2011_2020_EN.xlsx\")\n",
        "dados_prod <- read_excel (\"BD_producao_cultivar_EN.xlsx\")"
      ],
      "metadata": {
        "id": "VMG3bB2JeSbe"
      },
      "execution_count": null,
      "outputs": []
    },
    {
      "cell_type": "code",
      "source": [
        "# Visualizar dados \n",
        "head(dados_clima)\n",
        "head(dados_prod)"
      ],
      "metadata": {
        "id": "4C7DuNUKCllW"
      },
      "execution_count": null,
      "outputs": []
    },
    {
      "cell_type": "code",
      "source": [
        "# Organização dos dados \n",
        "\n",
        "#acumulado variáveis meteorológicas em frequencia mensal \n",
        "#criar coluna mês/ano\n",
        "dados_clima$year_month <- floor_date(dados_clima$Data, \n",
        "                                  \"month\")\n",
        "\n",
        "#head(dados_clima)"
      ],
      "metadata": {
        "id": "HpaQgbXOA0Ao"
      },
      "execution_count": null,
      "outputs": []
    },
    {
      "cell_type": "code",
      "source": [
        "#criar uma nova planilha com os dados agregados \n",
        "dados_climaTotal <- dados_clima %>%\n",
        "  group_by(year_month) %>%\n",
        "  dplyr::summarize(Tmax = mean(Tmax), Tmin = mean(Tmin), Tmean = mean(Tmean),\n",
        "                    SRad = mean(SRad), Precip = sum(Precip), GDD = sum(GDD),\n",
        "                    ET = mean(ET), Chill_Hours = sum(Chill_Hours), \n",
        "                    Tmax_summer = mean(Tmax_summer), Tmax_fall = mean(Tmax_fall),  Tmax_winter = mean(Tmax_winter),  Tmax_spring = mean(Tmax_spring),\n",
        "                    Tmin_summer = mean(Tmin_summer), Tmin_fall = mean(Tmin_fall), Tmin_winter = mean(Tmin_winter), Tmin_spring = mean(Tmin_spring), \n",
        "                    Tmed_summer = mean(Tmed_summer), Tmed_fall = mean(Tmed_fall), Tmed_winter = mean (Tmed_winter), Tmed_spring = mean(Tmed_spring), \n",
        "                    SRad_summer = mean(SRad_summer),  SRad_fall = mean(SRad_fall),  SRad_winter = mean(SRad_winter),  SRad_spring = mean(SRad_spring),\n",
        "                    Precip_summer = mean(Precip_summer), Precip_fall = mean(Precip_fall), Precip_winter = mean(Precip_winter), Precip_spring = mean(Precip_spring), \n",
        "                    GDD_summer = mean(GDD_summer), GDD_fall = mean(GDD_fall), GDD_winter = mean(GDD_winter), GDD_spring = mean(GDD_spring), \n",
        "                    ET_summer = mean(ET_summer),  ET_fall = mean(ET_fall),  ET_winter = mean(ET_winter),  ET_spring = mean(ET_spring),\n",
        "                    Chill_Hours_summer = mean(Chill_Hours_summer), Chill_Hours_fall = mean(Chill_Hours_fall), Chill_Hours_winter = mean(Chill_Hours_winter), Chill_Hours_spring = mean(Chill_Hours_spring)) %>% as.data.frame()"
      ],
      "metadata": {
        "id": "Zwi0zKs9C6GP"
      },
      "execution_count": null,
      "outputs": []
    },
    {
      "cell_type": "code",
      "source": [
        "head(dados_climaTotal)"
      ],
      "metadata": {
        "id": "-2x5WdznGi7t"
      },
      "execution_count": null,
      "outputs": []
    },
    {
      "cell_type": "code",
      "source": [
        "#unir df clima + df produção \n",
        "\n",
        "dados_combo <- cbind(dados_climaTotal, dados_prod)\n",
        "#dados_combo\n",
        "\n",
        "#selação das variáveis que efetivamente serão utilizadas (~exclusão das variáveis que não serão)\n",
        "dados_combo <- select(dados_combo, -year_month, -Date, -Chill_Hours_summer)"
      ],
      "metadata": {
        "id": "GPh7Ds2QGz9U"
      },
      "execution_count": null,
      "outputs": []
    },
    {
      "cell_type": "code",
      "source": [
        "glimpse(dados_combo)"
      ],
      "metadata": {
        "id": "9fYrj9oVHINY"
      },
      "execution_count": null,
      "outputs": []
    },
    {
      "cell_type": "code",
      "source": [
        "################################################################################"
      ],
      "metadata": {
        "id": "V7fsw9h_HSa8"
      },
      "execution_count": null,
      "outputs": []
    },
    {
      "cell_type": "code",
      "source": [
        "#######################################################################\n",
        "## MODELO 1:\n",
        "### Variável dependente: Next_Yield_GALA\n",
        "### Variáveis independentes: dados meteorológicos mensais e sazonais\n",
        "#######################################################################"
      ],
      "metadata": {
        "id": "ir0lfDa3H03U"
      },
      "execution_count": null,
      "outputs": []
    },
    {
      "cell_type": "code",
      "source": [
        "# Organização dos dados\n",
        "## Retirada das variáveis relacionadas à Fuji e à produção da Gala anterior, pois não são necessária nesse momento\n",
        "\n",
        "dados_comboGala <- select(dados_combo, -NextYield_FUJI, -Yield_FUJI, -Yield_GALA)\n",
        "head(dados_comboGala)"
      ],
      "metadata": {
        "id": "2UVY01dnII0v"
      },
      "execution_count": null,
      "outputs": []
    },
    {
      "cell_type": "code",
      "source": [
        "# Árvore de decisão \n",
        "set.seed(1234)\n",
        "DT_comboGala = rpart(NextYield_GALA~., data= dados_comboGala, \n",
        "                     method=\"anova\", control = rpart.control(cp = 0.03))\n",
        "#summary(fit.tree)\n",
        "DT_comboGala"
      ],
      "metadata": {
        "id": "PzJ3bRkLJCgO"
      },
      "execution_count": null,
      "outputs": []
    },
    {
      "cell_type": "code",
      "source": [
        "#visualizar arvore de decisão\n",
        "rpart.plot(DT_comboGala)"
      ],
      "metadata": {
        "id": "QTIngw8tJKoF"
      },
      "execution_count": null,
      "outputs": []
    },
    {
      "cell_type": "code",
      "source": [
        "#variable importance \n",
        "\n",
        "split = summary(DT_comboGala)$splits\n",
        "variable_importanceGala <- DT_comboGala$variable.importance \n",
        "barplot(t(DT_comboGala$variable.importance),horiz=TRUE)\n"
      ],
      "metadata": {
        "id": "yE98wtWYJQKB"
      },
      "execution_count": null,
      "outputs": []
    },
    {
      "cell_type": "code",
      "source": [
        "################################################################################"
      ],
      "metadata": {
        "id": "RxxrskFcR2_3"
      },
      "execution_count": null,
      "outputs": []
    },
    {
      "cell_type": "code",
      "source": [
        "#######################################################################\n",
        "## MODELO 2:\n",
        "### Variável dependente: Yield_GALA\n",
        "### Variáveis independentes: dados meteorológicos mensais e sazonais\n",
        "#######################################################################"
      ],
      "metadata": {
        "id": "wvD2VKXfLoiW"
      },
      "execution_count": null,
      "outputs": []
    },
    {
      "cell_type": "code",
      "source": [
        "# Organização dos dados para o MODELO 2\n",
        "  # retirada das variáveis relacionadas à produção de Fuji e 'Producao_proximoGALA que não será necessária nesse momento\n",
        "\n",
        "dados_comboGala_n <- select(dados_combo, -NextYield_FUJI, -Yield_FUJI, -NextYield_GALA)\n",
        "head(dados_comboGala_n)"
      ],
      "metadata": {
        "id": "X0sNjrc6L12s"
      },
      "execution_count": null,
      "outputs": []
    },
    {
      "cell_type": "code",
      "source": [
        "# Árvore de decisão \n",
        "set.seed(123)\n",
        "DT_comboGala_n = rpart(Yield_GALA~., data= dados_comboGala_n, \n",
        "                     method=\"anova\", control = rpart.control(cp = 0.035))\n",
        "#summary(fit.tree)\n",
        "DT_comboGala_n\n",
        "\n",
        "#visualizar arvore de decisão\n",
        "rpart.plot(DT_comboGala_n)"
      ],
      "metadata": {
        "id": "pCXmP3OLPMiQ"
      },
      "execution_count": null,
      "outputs": []
    },
    {
      "cell_type": "code",
      "source": [
        "summary(DT_comboGala_n)"
      ],
      "metadata": {
        "id": "Wur9RkRQQIGm"
      },
      "execution_count": null,
      "outputs": []
    },
    {
      "cell_type": "code",
      "source": [
        "##########################################################################"
      ],
      "metadata": {
        "id": "dafvj8xBR0JI"
      },
      "execution_count": null,
      "outputs": []
    },
    {
      "cell_type": "code",
      "source": [
        "#######################################################################\n",
        "## MODELO 3:\n",
        "### Variável dependente: Next_Yield_FUJI\n",
        "### Variáveis independentes: dados meteorológicos mensais e sazonais\n",
        "#######################################################################"
      ],
      "metadata": {
        "id": "AeX17aHfLt0N"
      },
      "execution_count": null,
      "outputs": []
    },
    {
      "cell_type": "code",
      "source": [
        "# Organização dos dados para construção do MODELO 3\n",
        "# retirada das variáveis relacionadas à produção de GALA e de Fuji_anterior que não serão necessárias nesse momento\n",
        "\n",
        "dados_comboFuji <- select(dados_combo, -NextYield_GALA, -Yield_FUJI, -Yield_GALA)\n",
        "head(dados_comboFuji)"
      ],
      "metadata": {
        "id": "1hNcv9iiL4Zd"
      },
      "execution_count": null,
      "outputs": []
    },
    {
      "cell_type": "code",
      "source": [
        "# Árvore de decisão \n",
        "set.seed(123)\n",
        "DT_comboFuji = rpart(NextYield_FUJI~., data= dados_comboFuji, \n",
        "                     method=\"anova\", control = rpart.control(cp = 0.03))\n",
        "#summary(fit.tree)\n",
        "DT_comboFuji"
      ],
      "metadata": {
        "id": "A7OxNKLpM943"
      },
      "execution_count": null,
      "outputs": []
    },
    {
      "cell_type": "code",
      "source": [
        "#visualizar arvore de decisão\n",
        "rpart.plot(DT_comboFuji)"
      ],
      "metadata": {
        "id": "ajdWGW0wNHD2"
      },
      "execution_count": null,
      "outputs": []
    },
    {
      "cell_type": "code",
      "source": [
        "summary(DT_comboFuji)"
      ],
      "metadata": {
        "id": "78fkn4TGN5pM"
      },
      "execution_count": null,
      "outputs": []
    },
    {
      "cell_type": "code",
      "source": [
        "########################################################################"
      ],
      "metadata": {
        "id": "1FLCZhtbRwuR"
      },
      "execution_count": null,
      "outputs": []
    },
    {
      "cell_type": "code",
      "source": [
        "#######################################################################\n",
        "## MODELO 4:\n",
        "### Variável dependente: Yield_FUJI\n",
        "### Variáveis independentes: dados meteorológicos mensais e sazonais\n",
        "#######################################################################"
      ],
      "metadata": {
        "id": "AW7Mno0vLyV9"
      },
      "execution_count": null,
      "outputs": []
    },
    {
      "cell_type": "code",
      "source": [
        "# Organização dos dados para o MODELO 4\n",
        "# retirada das variáveis relacionadas à Gala e à 'Producao_proximoFuji' que não serão necessárias nesse momento.\n",
        "\n",
        "dados_comboFuji_n <- select(dados_combo, -NextYield_FUJI, -Yield_GALA, -NextYield_GALA)\n",
        "head(dados_comboFuji_n)"
      ],
      "metadata": {
        "id": "ZBkFe2xQQZux"
      },
      "execution_count": null,
      "outputs": []
    },
    {
      "cell_type": "code",
      "source": [
        "# Árvore de decisão \n",
        "set.seed(123)\n",
        "DT_comboFuji_n = rpart(Yield_FUJI~., data= dados_comboFuji_n, \n",
        "                     method=\"anova\", control = rpart.control(cp = 0.03))\n",
        "#summary(fit.tree)\n",
        "DT_comboFuji_n\n",
        "\n",
        "#visualizar arvore de decisão\n",
        "rpart.plot(DT_comboFuji_n)"
      ],
      "metadata": {
        "id": "2jLCJjMtRTDF"
      },
      "execution_count": null,
      "outputs": []
    },
    {
      "cell_type": "code",
      "source": [
        "summary(DT_comboFuji_n)"
      ],
      "metadata": {
        "id": "J2mhVN1nRgZ9"
      },
      "execution_count": null,
      "outputs": []
    }
  ]
}